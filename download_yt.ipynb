{
  "nbformat": 4,
  "nbformat_minor": 0,
  "metadata": {
    "colab": {
      "provenance": [],
      "authorship_tag": "ABX9TyNbUr69axtjXwaW4Hs5iRV4",
      "include_colab_link": true
    },
    "kernelspec": {
      "name": "python3",
      "display_name": "Python 3"
    },
    "language_info": {
      "name": "python"
    }
  },
  "cells": [
    {
      "cell_type": "markdown",
      "metadata": {
        "id": "view-in-github",
        "colab_type": "text"
      },
      "source": [
        "<a href=\"https://colab.research.google.com/github/wr39/skills-introduction-to-github/blob/main/download_yt.ipynb\" target=\"_parent\"><img src=\"https://colab.research.google.com/assets/colab-badge.svg\" alt=\"Open In Colab\"/></a>"
      ]
    },
    {
      "cell_type": "code",
      "source": [
        "!pip install yt-dlp"
      ],
      "metadata": {
        "id": "h-AvKgwUrf-Z"
      },
      "execution_count": null,
      "outputs": []
    },
    {
      "cell_type": "code",
      "execution_count": null,
      "metadata": {
        "id": "uLdv_uY1jY7e"
      },
      "outputs": [],
      "source": [
        "import os\n",
        "from yt_dlp import YoutubeDL\n",
        "\n",
        "# Function to download video using yt_dlp\n",
        "def download_video(video_url):\n",
        "    ydl_opts = {\n",
        "        'format': 'best',  # Download the best quality available\n",
        "        'outtmpl': './%(title)s-%(id)s.%(ext)s',  # Save file as TITLE-ID.EXTENSION in the current directory\n",
        "    }\n",
        "    with YoutubeDL(ydl_opts) as ydl:\n",
        "        info_dict = ydl.extract_info(video_url, download=True)\n",
        "        video_title = info_dict.get('title', None)\n",
        "        video_id = info_dict.get('id', None)\n",
        "        video_ext = info_dict.get('ext', None)\n",
        "        filename = f\"{video_title}-{video_id}.{video_ext}\"\n",
        "        print(f\"Downloaded file saved as: {filename}\")\n",
        "    return filename\n",
        "\n",
        "# Main execution flow\n",
        "if __name__ == '__main__':\n",
        "    video_url = 'https://www.youtube.com/watch?v=QtsA-QHYjuo'\n",
        "    # Download the video and print the filename\n",
        "    downloaded_file_path = download_video(video_url)\n",
        "    print(\"Download completed!\")\n"
      ]
    }
  ]
}